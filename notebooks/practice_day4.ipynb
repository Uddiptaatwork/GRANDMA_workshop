{
 "cells": [
  {
   "cell_type": "markdown",
   "metadata": {},
   "source": [
    "# Practice Day 4 \n",
    "### Codes and astronomy software used during the workshop\n",
    "---"
   ]
  },
  {
   "cell_type": "markdown",
   "metadata": {},
   "source": [
    "## STDPipe"
   ]
  },
  {
   "cell_type": "markdown",
   "metadata": {},
   "source": [
    "##### miscellanous libraries required: \n",
    "- sep\n",
    "- esutil"
   ]
  },
  {
   "cell_type": "code",
   "execution_count": 11,
   "metadata": {},
   "outputs": [],
   "source": [
    "import numpy as np\n",
    "import astropy\n",
    "import sys\n",
    "sys.path.append('../stdpipe_software/stdpipe/')\n",
    "from stdpipe import photometry"
   ]
  },
  {
   "cell_type": "code",
   "execution_count": 15,
   "metadata": {},
   "outputs": [
    {
     "name": "stdout",
     "output_type": "stream",
     "text": [
      "\u001b[0;31mInit signature:\u001b[0m\n",
      "\u001b[0mphotometry\u001b[0m\u001b[0;34m.\u001b[0m\u001b[0mTable\u001b[0m\u001b[0;34m(\u001b[0m\u001b[0;34m\u001b[0m\n",
      "\u001b[0;34m\u001b[0m    \u001b[0mdata\u001b[0m\u001b[0;34m=\u001b[0m\u001b[0;32mNone\u001b[0m\u001b[0;34m,\u001b[0m\u001b[0;34m\u001b[0m\n",
      "\u001b[0;34m\u001b[0m    \u001b[0mmasked\u001b[0m\u001b[0;34m=\u001b[0m\u001b[0;32mFalse\u001b[0m\u001b[0;34m,\u001b[0m\u001b[0;34m\u001b[0m\n",
      "\u001b[0;34m\u001b[0m    \u001b[0mnames\u001b[0m\u001b[0;34m=\u001b[0m\u001b[0;32mNone\u001b[0m\u001b[0;34m,\u001b[0m\u001b[0;34m\u001b[0m\n",
      "\u001b[0;34m\u001b[0m    \u001b[0mdtype\u001b[0m\u001b[0;34m=\u001b[0m\u001b[0;32mNone\u001b[0m\u001b[0;34m,\u001b[0m\u001b[0;34m\u001b[0m\n",
      "\u001b[0;34m\u001b[0m    \u001b[0mmeta\u001b[0m\u001b[0;34m=\u001b[0m\u001b[0;32mNone\u001b[0m\u001b[0;34m,\u001b[0m\u001b[0;34m\u001b[0m\n",
      "\u001b[0;34m\u001b[0m    \u001b[0mcopy\u001b[0m\u001b[0;34m=\u001b[0m\u001b[0;32mTrue\u001b[0m\u001b[0;34m,\u001b[0m\u001b[0;34m\u001b[0m\n",
      "\u001b[0;34m\u001b[0m    \u001b[0mrows\u001b[0m\u001b[0;34m=\u001b[0m\u001b[0;32mNone\u001b[0m\u001b[0;34m,\u001b[0m\u001b[0;34m\u001b[0m\n",
      "\u001b[0;34m\u001b[0m    \u001b[0mcopy_indices\u001b[0m\u001b[0;34m=\u001b[0m\u001b[0;32mTrue\u001b[0m\u001b[0;34m,\u001b[0m\u001b[0;34m\u001b[0m\n",
      "\u001b[0;34m\u001b[0m    \u001b[0munits\u001b[0m\u001b[0;34m=\u001b[0m\u001b[0;32mNone\u001b[0m\u001b[0;34m,\u001b[0m\u001b[0;34m\u001b[0m\n",
      "\u001b[0;34m\u001b[0m    \u001b[0mdescriptions\u001b[0m\u001b[0;34m=\u001b[0m\u001b[0;32mNone\u001b[0m\u001b[0;34m,\u001b[0m\u001b[0;34m\u001b[0m\n",
      "\u001b[0;34m\u001b[0m    \u001b[0;34m**\u001b[0m\u001b[0mkwargs\u001b[0m\u001b[0;34m,\u001b[0m\u001b[0;34m\u001b[0m\n",
      "\u001b[0;34m\u001b[0m\u001b[0;34m)\u001b[0m\u001b[0;34m\u001b[0m\u001b[0;34m\u001b[0m\u001b[0m\n",
      "\u001b[0;31mDocstring:\u001b[0m     \n",
      "A class to represent tables of heterogeneous data.\n",
      "\n",
      "`~astropy.table.Table` provides a class for heterogeneous tabular data.\n",
      "A key enhancement provided by the `~astropy.table.Table` class over\n",
      "e.g. a `numpy` structured array is the ability to easily modify the\n",
      "structure of the table by adding or removing columns, or adding new\n",
      "rows of data.  In addition table and column metadata are fully supported.\n",
      "\n",
      "`~astropy.table.Table` differs from `~astropy.nddata.NDData` by the\n",
      "assumption that the input data consists of columns of homogeneous data,\n",
      "where each column has a unique identifier and may contain additional\n",
      "metadata such as the data unit, format, and description.\n",
      "\n",
      "See also: https://docs.astropy.org/en/stable/table/\n",
      "\n",
      "Parameters\n",
      "----------\n",
      "data : numpy ndarray, dict, list, table-like object, optional\n",
      "    Data to initialize table.\n",
      "masked : bool, optional\n",
      "    Specify whether the table is masked.\n",
      "names : list, optional\n",
      "    Specify column names.\n",
      "dtype : list, optional\n",
      "    Specify column data types.\n",
      "meta : dict, optional\n",
      "    Metadata associated with the table.\n",
      "copy : bool, optional\n",
      "    Copy the input data. If the input is a Table the ``meta`` is always\n",
      "    copied regardless of the ``copy`` parameter.\n",
      "    Default is True.\n",
      "rows : numpy ndarray, list of list, optional\n",
      "    Row-oriented data for table instead of ``data`` argument.\n",
      "copy_indices : bool, optional\n",
      "    Copy any indices in the input data. Default is True.\n",
      "units : list, dict, optional\n",
      "    List or dict of units to apply to columns.\n",
      "descriptions : list, dict, optional\n",
      "    List or dict of descriptions to apply to columns.\n",
      "**kwargs : dict, optional\n",
      "    Additional keyword args when converting table-like object.\n",
      "\u001b[0;31mFile:\u001b[0m           ~/anaconda3/envs/grandma/lib/python3.9/site-packages/astropy/table/table.py\n",
      "\u001b[0;31mType:\u001b[0m           type\n",
      "\u001b[0;31mSubclasses:\u001b[0m     QTable\n"
     ]
    }
   ],
   "source": [
    "photometry.Table?"
   ]
  },
  {
   "cell_type": "code",
   "execution_count": null,
   "metadata": {},
   "outputs": [],
   "source": []
  }
 ],
 "metadata": {
  "interpreter": {
   "hash": "6dea876f19bcdfddbe2d348634ec8ec8bba10915bc016c21dafa98035803cbd7"
  },
  "kernelspec": {
   "display_name": "Python 3.9.7 ('grandma')",
   "language": "python",
   "name": "python3"
  },
  "language_info": {
   "codemirror_mode": {
    "name": "ipython",
    "version": 3
   },
   "file_extension": ".py",
   "mimetype": "text/x-python",
   "name": "python",
   "nbconvert_exporter": "python",
   "pygments_lexer": "ipython3",
   "version": "3.9.7"
  },
  "orig_nbformat": 4
 },
 "nbformat": 4,
 "nbformat_minor": 2
}
